{
 "cells": [
  {
   "cell_type": "code",
   "execution_count": 14,
   "metadata": {},
   "outputs": [
    {
     "ename": "SyntaxError",
     "evalue": "invalid syntax (2706936661.py, line 2)",
     "output_type": "error",
     "traceback": [
      "\u001b[1;36m  Cell \u001b[1;32mIn[14], line 2\u001b[1;36m\u001b[0m\n\u001b[1;33m    import *.can_decoder as cd\u001b[0m\n\u001b[1;37m           ^\u001b[0m\n\u001b[1;31mSyntaxError\u001b[0m\u001b[1;31m:\u001b[0m invalid syntax\n"
     ]
    }
   ],
   "source": [
    "from ftplib import FTP, error_perm\n",
    "import can_decoder as cd"
   ]
  },
  {
   "cell_type": "code",
   "execution_count": 10,
   "metadata": {},
   "outputs": [
    {
     "data": {
      "text/plain": [
       "'250 CWD command successful.'"
      ]
     },
     "execution_count": 10,
     "metadata": {},
     "output_type": "execute_result"
    }
   ],
   "source": [
    "    state = 'ES'\n",
    "    year = 2019\n",
    "    year2 = str(year)[-2:].zfill(2)\n",
    "\n",
    "    if year < 1979:\n",
    "        raise ValueError(\"SIM does not contain data before 1979\")\n",
    "    elif year >= 1996:\n",
    "        ftp_dir = \"/dissemin/publicos/SIM/CID10/DORES\"\n",
    "        fname = \"DO{}{}.dbc\".format(state, year)\n",
    "    else:\n",
    "        ftp_dir = \"/dissemin/publicos/SIM/CID9/DORES\"\n",
    "        fname    = \"DOR{}{}.dbc\".format(state, year2)\n",
    "\n",
    "    # cachefile = os.path.join(CACHEPATH, \"SIM_\" + fname.split(\".\")[0] + \"_.parquet\")\n",
    "\n",
    "    ftp = FTP(\"ftp.datasus.gov.br\")\n",
    "    ftp.login()\n",
    "    ftp.cwd(ftp_dir)"
   ]
  },
  {
   "cell_type": "code",
   "execution_count": 11,
   "metadata": {},
   "outputs": [],
   "source": [
    "try:\n",
    "    ftp.retrbinary(\"RETR {}\".format(fname), open(fname, \"wb\").write)\n",
    "except error_perm:\n",
    "    try:\n",
    "        ftp.retrbinary(\"RETR {}\".format(fname.upper()), open(fname, \"wb\").write)\n",
    "    except:\n",
    "        raise Exception(\"File {} not available\".format(fname))"
   ]
  },
  {
   "cell_type": "code",
   "execution_count": null,
   "metadata": {},
   "outputs": [],
   "source": [
    "dbc = cd.load_dbc(fname)\n",
    "# df_decoder = cd.DataFrameDecoder(dbc)\n"
   ]
  }
 ],
 "metadata": {
  "kernelspec": {
   "display_name": "Python 3",
   "language": "python",
   "name": "python3"
  },
  "language_info": {
   "codemirror_mode": {
    "name": "ipython",
    "version": 3
   },
   "file_extension": ".py",
   "mimetype": "text/x-python",
   "name": "python",
   "nbconvert_exporter": "python",
   "pygments_lexer": "ipython3",
   "version": "3.11.1"
  },
  "orig_nbformat": 4,
  "vscode": {
   "interpreter": {
    "hash": "ecaf2b7b710ff2dd333a8d1ca5d56f3fb46f6584bc069950c6a4d6fd94e11769"
   }
  }
 },
 "nbformat": 4,
 "nbformat_minor": 2
}
