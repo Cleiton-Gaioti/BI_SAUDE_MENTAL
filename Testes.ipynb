{
 "cells": [
  {
   "cell_type": "code",
   "execution_count": null,
   "metadata": {},
   "outputs": [],
   "source": [
    "import requests, pandas as pd"
   ]
  },
  {
   "cell_type": "code",
   "execution_count": null,
   "metadata": {},
   "outputs": [],
   "source": [
    "r = requests.get('https://servicodados.ibge.gov.br/api/v1/localidades/paises?view=nivelado')"
   ]
  },
  {
   "cell_type": "code",
   "execution_count": null,
   "metadata": {},
   "outputs": [],
   "source": [
    "pd.read_json('https://servicodados.ibge.gov.br/api/v1/localidades/estados?view=nivelado', orient='records')"
   ]
  },
  {
   "cell_type": "code",
   "execution_count": null,
   "metadata": {},
   "outputs": [],
   "source": [
    "from ibge.localidades import Estados\n",
    "\n",
    "Estados().json."
   ]
  },
  {
   "cell_type": "code",
   "execution_count": null,
   "metadata": {},
   "outputs": [],
   "source": [
    "pd.read_json('https://servicodados.ibge.gov.br/api/v1/localidades/municipios?view=nivelado', orient='records')"
   ]
  },
  {
   "cell_type": "code",
   "execution_count": null,
   "metadata": {},
   "outputs": [],
   "source": [
    "import pandas as pd\n",
    "import dags.DW_TOOLS as dwt\n",
    "\n",
    "con = dwt.create_connection(\n",
    "    server='10.3.152.103',\n",
    "    database='saude_mental',\n",
    "    username='postgres',\n",
    "    password='postgres',\n",
    "    port=5432)\n",
    "\n",
    "conn = con.connect()"
   ]
  },
  {
   "cell_type": "code",
   "execution_count": null,
   "metadata": {},
   "outputs": [],
   "source": [
    "query = \"\"\"\n",
    "    SELECT DISTINCT\n",
    "        null as sk_municipio\n",
    "        , stg.\"municipio-id\" as cd_municipio\n",
    "        , stg.\"municipio-nome\" as no_municipio\n",
    "        , stg.\"microrregiao-id\" as cd_microrregiao\n",
    "        , stg.\"microrregiao-nome\" as no_microrregiao\n",
    "        , stg.\"mesorregiao-id\" as cd_mesorregiao\n",
    "        , stg.\"mesorregiao-nome\" as no_mesorregiao\n",
    "        , stg.\"regiao-imediata-id\" as cd_regiao_imediata\n",
    "        , stg.\"regiao-imediata-nome\" as no_regiao_imediata\n",
    "        , stg.\"regiao-intermediaria-id\" as cd_regiao_intermediaria\n",
    "        , stg.\"regiao-intermediaria-nome\" as no_regiao_intermediaria\n",
    "        , stg.\"uf-id\" as cd_uf\n",
    "        , stg.\"uf-sigla\" as ds_sigla_uf\n",
    "        , stg.\"uf-nome\" as no_uf\n",
    "        , stg.\"regiao-id\" as cd_regiao\n",
    "        , stg.\"regiao-sigla\" as ds_sigla_regiao\n",
    "        , stg.\"regiao-nome\" as no_regiao\n",
    "    FROM stg.stg_municipios stg\n",
    "    LEFT JOIN dw.d_municipio dim\n",
    "        ON (stg.\"municipio-id\" = dim.cd_municipio)\n",
    "    WHERE dim.cd_municipio IS NULL\n",
    "\"\"\"\n",
    "\n",
    "df = dwt.read_table_from_sql(query, con)"
   ]
  },
  {
   "cell_type": "code",
   "execution_count": null,
   "metadata": {},
   "outputs": [],
   "source": [
    "df[df['cd_municipio'] == 90]"
   ]
  },
  {
   "cell_type": "code",
   "execution_count": null,
   "metadata": {},
   "outputs": [],
   "source": [
    "query = f\"\"\"\n",
    "    SELECT DISTINCT\n",
    "        sp.\"pais-m49\" AS cd_naturalidade,\n",
    "        sp.\"pais-nome\" AS ds_naturalidade,\n",
    "        'PAÍS' AS ds_nivel\n",
    "    FROM stg.stg_pais sp\n",
    "    UNION\n",
    "    SELECT DISTINCT\n",
    "        (su.\"uf-id\" + 800) AS cd_naturalidade,\n",
    "        su.\"uf-nome\" AS ds_naturalidade,\n",
    "        'UF' AS ds_nivel\n",
    "    FROM stg.stg_uf su\n",
    "\"\"\"\n",
    "\n",
    "df = dwt.read_table_from_sql(query, con)\n",
    "df"
   ]
  },
  {
   "cell_type": "code",
   "execution_count": null,
   "metadata": {},
   "outputs": [],
   "source": [
    "df = df.astype({\"cd_naturalidade\": \"Int64\"})\n",
    "duplicates = df[df['cd_naturalidade'].duplicated()]['cd_naturalidade']"
   ]
  },
  {
   "cell_type": "code",
   "execution_count": null,
   "metadata": {},
   "outputs": [],
   "source": [
    "df = df.query(\"not cd_naturalidade.duplicated() or ds_nivel != 'PAÍS'\")\n",
    "df"
   ]
  },
  {
   "cell_type": "code",
   "execution_count": null,
   "metadata": {},
   "outputs": [],
   "source": [
    "df = pd.read_sql_table('d_municipio', con.connect(), 'dw', columns=['sk_municipio', 'cd_municipio'])"
   ]
  },
  {
   "cell_type": "code",
   "execution_count": 11,
   "metadata": {},
   "outputs": [],
   "source": [
    "import pandas as pd\n",
    "import datetime as dt\n",
    "import dags.DW_TOOLS as dwt\n",
    "import sqlalchemy as sa\n",
    "\n",
    "schema = 'dw'\n",
    "tb_name = 'f_obito'\n",
    "\n",
    "\n",
    "con = dwt.create_connection(\n",
    "    server='10.3.152.103',\n",
    "    database='saude_mental',\n",
    "    username='postgres',\n",
    "    password='postgres',\n",
    "    port=5432)\n",
    "\n",
    "conn = con.connect()\n",
    "\n",
    "query = f\"\"\"\n",
    "    SELECT DISTINCT\n",
    "        NULLIF(TRIM(sim.codmunnatu), '')::INTEGER AS cd_municipio_naturalidade,\n",
    "        NULLIF(TRIM(sim.codmunocor), '')::INTEGER AS cd_municipio_ocorrencia,\n",
    "        NULLIF(TRIM(sim.codmunres), '')::INTEGER AS cd_municipio_residencia,\n",
    "        NULLIF(TRIM(sim.ocup), '')::INTEGER AS cd_ocupacao,\n",
    "        NULLIF(TRIM(sim.\"natural\"), '')::INTEGER AS cd_naturalidade,\n",
    "        NULLIF(TRIM(sim.racacor), '')::INTEGER AS cd_raca_cor,\n",
    "        NULLIF(TRIM(sim.causabas), '') AS cd_cid,\n",
    "        NULLIF(TRIM(sim.esc), '')::INTEGER AS cd_escolaridade,\n",
    "        NULLIF(TRIM(sim.seriescfal), '')::INTEGER AS nu_serie,\n",
    "        NULLIF(TRIM(sim.sexo), '')::INTEGER AS cd_sexo,\n",
    "        NULLIF(TRIM(sim.contador), '')::INTEGER AS cd_registro,\n",
    "        CASE NULLIF(TRIM(sim.assistmed), '')\n",
    "            WHEN '1' THEN 'Com assistência'\n",
    "            WHEN '2' THEN 'Sem assistência'\n",
    "            WHEN '9' THEN 'Igorado'\n",
    "            ELSE NULL\n",
    "        END AS ds_assistencia_medica,\n",
    "        CASE NULLIF(TRIM(sim.atestante), '')\n",
    "            WHEN '1' THEN 'Sim'\n",
    "            WHEN '2' THEN 'Substituto'\n",
    "            WHEN '3' THEN 'IML'\n",
    "            WHEN '4' THEN 'SVO'\n",
    "            WHEN '5' THEN 'Outros'\n",
    "            ELSE NULL\n",
    "        END AS ds_atestante,\n",
    "        CASE NULLIF(TRIM(sim.circobito), '')\n",
    "            WHEN '1' THEN 'Acidente'\n",
    "            WHEN '2' THEN 'Suicídio'\n",
    "            WHEN '3' THEN 'Homicídio'\n",
    "            WHEN '4' THEN 'Outros'\n",
    "            WHEN '9' THEN 'Ignorado'\n",
    "            ELSE NULL\n",
    "        END AS ds_circunstancia_obito,\n",
    "        REGEXP_REPLACE(NULLIF(TRIM(sim.crm), ''), '[^0-9]*', '', 'g') AS nu_crm_medico_atestante,\n",
    "        TO_DATE(NULLIF(TRIM(sim.dtcadastro), ''), 'DDMMYY') AS dt_cadastro,\n",
    "        TO_DATE(NULLIF(TRIM(sim.dtatestado), ''), 'DDMMYY') AS dt_atestado,\n",
    "        TO_DATE(NULLIF(TRIM(sim.dtobito), ''), 'DDMMYY') AS dt_obito,\n",
    "        TO_DATE(NULLIF(TRIM(sim.dtnasc), ''), 'DDMMYY') AS dt_nascimento_falecido,\n",
    "        CASE\n",
    "            WHEN NULLIF(TRIM(sim.idade), '') = '000'\n",
    "                THEN -2\n",
    "            WHEN LEFT(NULLIF(TRIM(sim.idade), ''),1) IN ('0','1','2','3','4')\n",
    "                THEN RIGHT(NULLIF(TRIM(sim.idade), ''),2)::INTEGER\n",
    "            WHEN LEFT(NULLIF(TRIM(sim.idade), ''),1) = '5'\n",
    "                THEN (100 + RIGHT(NULLIF(TRIM(sim.idade), ''),2)::INTEGER)\n",
    "            ELSE -2\n",
    "        END AS vl_idade_falecido,\n",
    "        CASE\n",
    "            WHEN NULLIF(TRIM(sim.idade), '') = '000' THEN 'Não Informado'\n",
    "            ELSE\n",
    "                CASE LEFT(NULLIF(TRIM(sim.idade), ''),1)\n",
    "                    WHEN '0' THEN 'MINUTOS'\n",
    "                    WHEN '1' THEN 'HORAS'\n",
    "                    WHEN '2' THEN 'DIAS'\n",
    "                    WHEN '3' THEN 'MESES'\n",
    "                    WHEN '4' THEN 'ANOS'\n",
    "                    WHEN '5' THEN 'ANOS'\n",
    "                    ELSE 'Não Informado'\n",
    "                END\n",
    "        END AS ds_unidade_idade_falecido,\n",
    "        NOW() as dt_carga\n",
    "    FROM stg.stg_sim sim\n",
    "    -- LEFT JOIN {schema}.{tb_name} fato\n",
    "    --    ON (NULLIF(TRIM(sim.contador), '')::INTEGER = fato.cd_registro)\n",
    "    -- WHERE fato.cd_registro IS NULL\n",
    "\"\"\"\n",
    "\n",
    "with con.connect() as conn:\n",
    "    result = conn.execute(sa.text(query))"
   ]
  },
  {
   "cell_type": "code",
   "execution_count": 12,
   "metadata": {},
   "outputs": [
    {
     "data": {
      "text/plain": [
       "<bound method Result.columns of <sqlalchemy.engine.cursor.CursorResult object at 0x0000013587A75400>>"
      ]
     },
     "execution_count": 12,
     "metadata": {},
     "output_type": "execute_result"
    }
   ],
   "source": [
    "result.columns"
   ]
  },
  {
   "cell_type": "code",
   "execution_count": null,
   "metadata": {},
   "outputs": [],
   "source": [
    "col_names = {\n",
    "    'contador': 'cd_registro',\n",
    "    'crm': 'nu_crm_medico_atestante',\n",
    "    'dtcadastro': 'dt_cadastro',\n",
    "    'dtatestado': 'dt_atestado',\n",
    "    'dtobito': 'dt_obito',\n",
    "    'dtnasc': 'dt_nascimento_falecido',\n",
    "    'sk_cid': 'sk_cid_causa_obito',\n",
    "    'sk_escolaridade': 'sk_escolaridade_falecido',\n",
    "    'sk_municipio': 'sk_municipio_ocorrencia_obito', \n",
    "    'sk_ocupacao': 'sk_ocupacao_falecido'\n",
    "}\n",
    "\n",
    "dtypes = {\n",
    "    'sk_municipio_naturalidade_falecido': 'Int64',\n",
    "    'sk_municipio_ocorrencia_obito': 'Int64',\n",
    "    'sk_municipio_residencia_falecido': 'Int64',\n",
    "    'sk_ocupacao_falecido': 'Int64',\n",
    "    'sk_naturalidade': 'Int64',\n",
    "    'sk_raca_cor': 'Int64',\n",
    "    'sk_cid_causa_obito': 'Int64',\n",
    "    'sk_escolaridade_falecido': 'Int64',\n",
    "    'sk_sexo': 'Int64',\n",
    "    'cd_registro': 'Int64',\n",
    "    'ds_assistencia_medica': 'string',\n",
    "    'ds_atestante': 'string',\n",
    "    'ds_circunstancia_obito': 'string',\n",
    "    'nu_crm_medico_atestante': 'Int64',\n",
    "    'dt_cadastro': 'datetime64[ns]',\n",
    "    'dt_atestado': 'datetime64[ns]',\n",
    "    'dt_obito': 'datetime64[ns]',\n",
    "    'dt_hora_obito': 'string',\n",
    "    'dt_nascimento_falecido': 'datetime64[ns]',\n",
    "    'vl_idade_falecido': 'int',\n",
    "    'ds_unidade_idade_falecido': 'string',\n",
    "    'dt_carga': 'datetime64[ns]'\n",
    "} \n",
    "\n",
    "fillna = {\n",
    "    'sk_municipio_naturalidade_falecido': -2,\n",
    "    'sk_municipio_ocorrencia_obito': -2,\n",
    "    'sk_municipio_residencia_falecido': -2,\n",
    "    'sk_ocupacao_falecido': -2,\n",
    "    'sk_naturalidade': -2,\n",
    "    'sk_raca_cor': -2,\n",
    "    'sk_cid_causa_obito': -2,\n",
    "    'sk_escolaridade_falecido': -2,\n",
    "    'sk_sexo': -2,\n",
    "    'cd_registro': -2,\n",
    "    'ds_assistencia_medica': 'Não informado',\n",
    "    'ds_atestante': 'Não informado',\n",
    "    'ds_circunstancia_obito': 'Não informado',\n",
    "    'nu_crm_medico_atestante': -2,\n",
    "    'dt_cadastro': pd.to_datetime('01/01/1900'),\n",
    "    'dt_atestado': pd.to_datetime('01/01/1900'),\n",
    "    'dt_obito': pd.to_datetime('01/01/1900'),\n",
    "    'dt_hora_obito': '0000',\n",
    "    'dt_nascimento_falecido': pd.to_datetime('01/01/1900'),\n",
    "    'vl_idade_falecido': -2,\n",
    "    'ds_unidade_idade_falecido': 'Não informado'\n",
    "}"
   ]
  },
  {
   "cell_type": "code",
   "execution_count": null,
   "metadata": {},
   "outputs": [],
   "source": [
    "tbl_fato = tbl_fato.rename(columns=col_names).filter(dtypes.keys())\n",
    "\n",
    "tbl_fato['dt_cadastro'] = pd.to_datetime(tbl_fato['dt_cadastro'], format='%d%m%Y')\n",
    "tbl_fato['dt_atestado'] = pd.to_datetime(tbl_fato['dt_atestado'], format='%d%m%Y')\n",
    "tbl_fato['dt_obito'] = pd.to_datetime(tbl_fato['dt_obito'], format='%d%m%Y')\n",
    "tbl_fato['dt_nascimento_falecido'] = pd.to_datetime(tbl_fato['dt_nascimento_falecido'], format='%d%m%Y')"
   ]
  },
  {
   "cell_type": "code",
   "execution_count": null,
   "metadata": {},
   "outputs": [],
   "source": [
    "tbl_fato = tbl_fato.astype(dtypes).fillna(fillna)"
   ]
  },
  {
   "cell_type": "code",
   "execution_count": null,
   "metadata": {},
   "outputs": [],
   "source": [
    "tbl_fato[tbl_fato['dt_obito'] == pd.to_datetime('2011-07-09')]"
   ]
  },
  {
   "cell_type": "code",
   "execution_count": null,
   "metadata": {},
   "outputs": [],
   "source": [
    "mun = pd.read_excel('ftp://ftp.datasus.gov.br/dissemin/publicos/SIM/CID10/TABELAS/CADMUN.xls')"
   ]
  },
  {
   "cell_type": "code",
   "execution_count": null,
   "metadata": {},
   "outputs": [],
   "source": [
    "mun"
   ]
  }
 ],
 "metadata": {
  "kernelspec": {
   "display_name": "Python 3",
   "language": "python",
   "name": "python3"
  },
  "language_info": {
   "codemirror_mode": {
    "name": "ipython",
    "version": 3
   },
   "file_extension": ".py",
   "mimetype": "text/x-python",
   "name": "python",
   "nbconvert_exporter": "python",
   "pygments_lexer": "ipython3",
   "version": "3.11.2"
  },
  "orig_nbformat": 4
 },
 "nbformat": 4,
 "nbformat_minor": 2
}
