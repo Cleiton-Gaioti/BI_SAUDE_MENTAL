{
 "cells": [
  {
   "cell_type": "code",
   "execution_count": 1,
   "metadata": {},
   "outputs": [],
   "source": [
    "import pandas as pd"
   ]
  },
  {
   "cell_type": "code",
   "execution_count": 2,
   "metadata": {},
   "outputs": [],
   "source": [
    "url = \"https://github.com/bigdata-icict/ETL-Dataiku-DSS/blob/master/SIM/cid10_tabela_capitulos.csv?raw=true\"\n",
    "df_capitulos = pd.read_csv(url, sep=';')\n",
    "\n",
    "url = \"https://github.com/bigdata-icict/ETL-Dataiku-DSS/blob/master/SIM/cid10_tabela_grupos.csv?raw=true\"\n",
    "df_grupos = pd.read_csv(url, sep=';')\n",
    "\n",
    "url = \"https://github.com/bigdata-icict/ETL-Dataiku-DSS/blob/master/SIM/CID-10-CATEGORIAS.CSV.utf8?raw=true\"\n",
    "df_categorias = pd.read_csv(url, sep=';')\n",
    "\n",
    "url = \"https://github.com/bigdata-icict/ETL-Dataiku-DSS/blob/master/SIM/CID-10-SUBCATEGORIAS.CSV.utf8?raw=true\"\n",
    "df_subcategorias = pd.read_csv(url, sep=';')"
   ]
  },
  {
   "cell_type": "code",
   "execution_count": 3,
   "metadata": {},
   "outputs": [
    {
     "data": {
      "text/html": [
       "<div>\n",
       "<style scoped>\n",
       "    .dataframe tbody tr th:only-of-type {\n",
       "        vertical-align: middle;\n",
       "    }\n",
       "\n",
       "    .dataframe tbody tr th {\n",
       "        vertical-align: top;\n",
       "    }\n",
       "\n",
       "    .dataframe thead th {\n",
       "        text-align: right;\n",
       "    }\n",
       "</style>\n",
       "<table border=\"1\" class=\"dataframe\">\n",
       "  <thead>\n",
       "    <tr style=\"text-align: right;\">\n",
       "      <th></th>\n",
       "      <th>codigo</th>\n",
       "      <th>descricao</th>\n",
       "      <th>descricao_breve</th>\n",
       "    </tr>\n",
       "  </thead>\n",
       "  <tbody>\n",
       "    <tr>\n",
       "      <th>2197</th>\n",
       "      <td>X58</td>\n",
       "      <td>Acidentes</td>\n",
       "      <td>Acidentes</td>\n",
       "    </tr>\n",
       "    <tr>\n",
       "      <th>2555</th>\n",
       "      <td>X58</td>\n",
       "      <td>Outras causas externas de traumatismos acidentais</td>\n",
       "      <td>Outras causas externas de traumatismos acidentais</td>\n",
       "    </tr>\n",
       "    <tr>\n",
       "      <th>2715</th>\n",
       "      <td>X58</td>\n",
       "      <td>Exposição acidental a outros fatores e aos não...</td>\n",
       "      <td>Exposição acidental a outr fatores e aos não e...</td>\n",
       "    </tr>\n",
       "  </tbody>\n",
       "</table>\n",
       "</div>"
      ],
      "text/plain": [
       "     codigo                                          descricao  \\\n",
       "2197    X58                                          Acidentes   \n",
       "2555    X58  Outras causas externas de traumatismos acidentais   \n",
       "2715    X58  Exposição acidental a outros fatores e aos não...   \n",
       "\n",
       "                                        descricao_breve  \n",
       "2197                                          Acidentes  \n",
       "2555  Outras causas externas de traumatismos acidentais  \n",
       "2715  Exposição acidental a outr fatores e aos não e...  "
      ]
     },
     "execution_count": 3,
     "metadata": {},
     "output_type": "execute_result"
    }
   ],
   "source": [
    "df_grupos[df_grupos['codigo'] == 'X58']"
   ]
  }
 ],
 "metadata": {
  "kernelspec": {
   "display_name": "Python 3",
   "language": "python",
   "name": "python3"
  },
  "language_info": {
   "codemirror_mode": {
    "name": "ipython",
    "version": 3
   },
   "file_extension": ".py",
   "mimetype": "text/x-python",
   "name": "python",
   "nbconvert_exporter": "python",
   "pygments_lexer": "ipython3",
   "version": "3.10.7"
  },
  "orig_nbformat": 4
 },
 "nbformat": 4,
 "nbformat_minor": 2
}
