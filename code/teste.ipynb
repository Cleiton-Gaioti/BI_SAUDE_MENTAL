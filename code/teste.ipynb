{
 "cells": [
  {
   "cell_type": "code",
   "execution_count": 14,
   "metadata": {},
   "outputs": [],
   "source": [
    "import pandas as pd\n",
    "from pysus.online_data.SIM import download\n",
    "\n",
    "\n",
    "def extract_sim(start_year,end_year,state):\n",
    "    df = pd.concat([download(state,year) for year in range(start_year,end_year+1)])\n",
    "\n",
    "    return df\n",
    "\n",
    "def treat_sim(df: pd.DataFrame):\n",
    "    columns = [col_name.lower() for col_name in df.columns]\n",
    "\n",
    "    dtypes = {\n",
    "        'numerodo': str,'codinst': str,'numerodv': str,'origem': str,'TIPOBITO': 'Int64',\n",
    "        'dtobito': str,'horaobito': str,'numsus': str,'natural': str,'codmunnatu': str,\n",
    "        'dtnasc': str,'idade': str,'minutos': 'Int64','horas': 'Int64','dias': 'Int64','meses': 'Int64',\n",
    "        'anos': 'Int64','sexo': 'Int64','racacor': 'Int64','estciv': 'Int64','esc': str,'esc2010': str,\n",
    "        'seriescfal': str,'ocup': str,'codmunres': str,'lococor': 'Int64','codestab': str,\n",
    "        'estabdescr': str, 'codmunocor': str, 'idademae': 'Int64', 'escmae': str, 'escmae2010': str,\n",
    "        'seriescmae': str, 'ocupmae': str, 'qtdfilvivo': 'Int64', 'qtdfilmort': 'Int64', 'gravidez': 'Int64',\n",
    "        'semagestac': str, 'gestacao': str, 'parto': 'Int64', 'obitoparto': 'Int64', 'peso': float,\n",
    "        'tpmorteoco': str, 'obitograv': 'Int64', 'obitopuerp': 'Int64', 'assistmed': 'Int64', 'exame': 'Int64',\n",
    "        'cirurgia': 'Int64', 'necropsia': 'Int64', 'linhaa': str, 'linhab': str, 'linhac': str, 'linhad': str,\n",
    "        'linhaii': str, 'causabas': str, 'cb_pre': str, 'crm': str, 'comunsvoim': str, 'dtatestado': str,\n",
    "        'circobito': 'Int64', 'acidtrab': 'Int64', 'fonte': 'Int64', 'numerolote': str, 'tppos': str, 'dtinvestig': str,\n",
    "        'causabas_o': str, 'dtcadastro': str, 'atestante': 'Int64', 'stcodifica': str, 'codificado': str, 'versaosist': str,\n",
    "        'versaoscb': str, 'fonteinv': 'Int64', 'dtrecebim': str, 'atestado': str, 'dtrecoriga': str, 'causamat': str,\n",
    "        'escmaeagr1': str, 'escfalagr1': str, 'stdoepidem': str, 'stdonova': str, 'difdata': str, 'nudiasobco': str,\n",
    "        'nudiasobin': str, 'dtcadinv': str, 'tpobitocor': str, 'dtconinv': str, 'fontes': str, 'tpresginfo': str,\n",
    "        'tpnivelinv': str, 'nudiasinf': str, 'dtcadinf': str, 'morteparto': str, 'dtconcaso': str, 'fontesinf': str,\n",
    "        'altcausa': str,\n",
    "    }\n",
    "\n",
    "    df.dtypes = dtypes\n"
   ]
  },
  {
   "cell_type": "code",
   "execution_count": null,
   "metadata": {},
   "outputs": [],
   "source": [
    "df = extract_sim(2010, 2020, 'es')"
   ]
  },
  {
   "cell_type": "code",
   "execution_count": 112,
   "metadata": {},
   "outputs": [
    {
     "data": {
      "text/plain": [
       "Index(['CONTADOR', 'ORIGEM', 'TIPOBITO', 'DTOBITO', 'HORAOBITO', 'NATURAL',\n",
       "       'DTNASC', 'IDADE', 'SEXO', 'RACACOR', 'ESTCIV', 'ESC', 'OCUP',\n",
       "       'CODMUNRES', 'CODBAIRES', 'LOCOCOR', 'CODESTAB', 'CODMUNOCOR',\n",
       "       'CODBAIOCOR', 'IDADEMAE', 'ESCMAE', 'OCUPMAE', 'QTDFILVIVO',\n",
       "       'QTDFILMORT', 'GRAVIDEZ', 'GESTACAO', 'PARTO', 'OBITOPARTO', 'PESO',\n",
       "       'OBITOGRAV', 'OBITOPUERP', 'ASSISTMED', 'EXAME', 'CIRURGIA',\n",
       "       'NECROPSIA', 'LINHAA', 'LINHAB', 'LINHAC', 'LINHAD', 'LINHAII',\n",
       "       'CAUSABAS', 'DTATESTADO', 'CIRCOBITO', 'ACIDTRAB', 'FONTE', 'TPPOS',\n",
       "       'DTINVESTIG', 'CAUSABAS_O', 'DTCADASTRO', 'ATESTANTE', 'FONTEINV',\n",
       "       'DTRECEBIM', 'UFINFORM', 'CB_PRE', 'MORTEPARTO', 'DTCADINF',\n",
       "       'TPOBITOCOR', 'DTCADINV', 'COMUNSVOIM', 'DTRECORIG', 'DTRECORIGA',\n",
       "       'CAUSAMAT', 'ESC2010', 'ESCMAE2010', 'STDOEPIDEM', 'STDONOVA',\n",
       "       'SEMAGESTAC', 'TPMORTEOCO', 'DIFDATA', 'DTCONCASO', 'NUDIASOBIN',\n",
       "       'SERIESCFAL', 'SERIESCMAE', 'CODMUNCART', 'CODCART', 'NUMREGCART',\n",
       "       'DTREGCART', 'DTCONINV', 'CODMUNNATU', 'ESTABDESCR', 'CRM',\n",
       "       'NUMEROLOTE', 'STCODIFICA', 'CODIFICADO', 'VERSAOSIST', 'VERSAOSCB',\n",
       "       'ATESTADO', 'ESCMAEAGR1', 'ESCFALAGR1', 'NUDIASOBCO', 'FONTES',\n",
       "       'TPRESGINFO', 'TPNIVELINV', 'NUDIASINF', 'FONTESINF', 'ALTCAUSA'],\n",
       "      dtype='object')"
      ]
     },
     "execution_count": 112,
     "metadata": {},
     "output_type": "execute_result"
    }
   ],
   "source": [
    "df.columns"
   ]
  },
  {
   "cell_type": "code",
   "execution_count": 65,
   "metadata": {},
   "outputs": [],
   "source": [
    "df.loc[df['RACACOR'] == '1', 'RACACOR'] = 'Branco'"
   ]
  },
  {
   "cell_type": "code",
   "execution_count": 90,
   "metadata": {},
   "outputs": [],
   "source": [
    "df['TIPOBITO'] = df['TIPOBITO'].astype(str)\n",
    "\n",
    "df.loc[df['TIPOBITO'] == '0', 'TIPOBITO'] = None\n",
    "df.loc[df['TIPOBITO'] == '9', 'TIPOBITO'] = None\n",
    "df.loc[df['TIPOBITO'] == '1', 'TIPOBITO'] = 'Fetal'\n",
    "df.loc[df['TIPOBITO'] == '2', 'TIPOBITO'] = 'Não Fetal'"
   ]
  },
  {
   "cell_type": "code",
   "execution_count": 87,
   "metadata": {},
   "outputs": [
    {
     "data": {
      "text/plain": [
       "array(['2'], dtype=object)"
      ]
     },
     "execution_count": 87,
     "metadata": {},
     "output_type": "execute_result"
    }
   ],
   "source": [
    "df['TIPOBITO'].unique()"
   ]
  },
  {
   "cell_type": "code",
   "execution_count": 105,
   "metadata": {},
   "outputs": [
    {
     "data": {
      "text/plain": [
       "datetime.date(2010, 1, 8)"
      ]
     },
     "execution_count": 105,
     "metadata": {},
     "output_type": "execute_result"
    }
   ],
   "source": [
    "from datetime import date, datetime\n",
    "\n",
    "def convert_date(data):\n",
    "    day = int(data[:2])\n",
    "    month = int(data[2:4])\n",
    "    year = int(data[4:])\n",
    "\n",
    "    return date(year, month, day)\n",
    "\n",
    "convert_date('08012010')"
   ]
  },
  {
   "cell_type": "code",
   "execution_count": 107,
   "metadata": {},
   "outputs": [
    {
     "data": {
      "text/plain": [
       "'08/01/2010'"
      ]
     },
     "execution_count": 107,
     "metadata": {},
     "output_type": "execute_result"
    }
   ],
   "source": [
    "datetime.strptime('08012010', '%d%m%Y').strftime('%d/%m/%Y')"
   ]
  },
  {
   "cell_type": "code",
   "execution_count": 113,
   "metadata": {},
   "outputs": [
    {
     "data": {
      "text/plain": [
       "array(['', '832', '831', '829', '835', '823', '833', '825', '824', '190',\n",
       "       '843', '827', '841', '828', '826', '800', '249', '822', '225',\n",
       "       '87', '127', '850', '8', '125', '16', '815', '842', '811', '140',\n",
       "       '821', '78', '852', '99', '77', '814', '813', '135', '853', '83',\n",
       "       '10', '53', '851', '82', '32', '188', '33', '72', '129', '181',\n",
       "       '999', '186', '817', '165', '45', '63', '52', '118', '197', '124',\n",
       "       '75', '218', '117', '107', '19', '80', '76', '20', '175', '27',\n",
       "       '120', '195', '215', '110', '161', '077', '052', '027', '812',\n",
       "       '010', '119', '078', '016', '008', '152', '816', '072', '099',\n",
       "       '275', '266', '114', '058', '020', '033', '087', '004', '241',\n",
       "       '184', '224', '199', '268', '253', '063', '076', '073', '269',\n",
       "       '250', '105', '121', '244', '171', '144', '053', '159'],\n",
       "      dtype=object)"
      ]
     },
     "execution_count": 113,
     "metadata": {},
     "output_type": "execute_result"
    }
   ],
   "source": [
    "df['NATURAL'].unique()\n",
    "\n"
   ]
  }
 ],
 "metadata": {
  "kernelspec": {
   "display_name": "venv",
   "language": "python",
   "name": "python3"
  },
  "language_info": {
   "codemirror_mode": {
    "name": "ipython",
    "version": 3
   },
   "file_extension": ".py",
   "mimetype": "text/x-python",
   "name": "python",
   "nbconvert_exporter": "python",
   "pygments_lexer": "ipython3",
   "version": "3.9.13"
  },
  "orig_nbformat": 4,
  "vscode": {
   "interpreter": {
    "hash": "78334183b55f4a7219eb21203db6811b22d33a5380da8255b50cc146d40e95a7"
   }
  }
 },
 "nbformat": 4,
 "nbformat_minor": 2
}
