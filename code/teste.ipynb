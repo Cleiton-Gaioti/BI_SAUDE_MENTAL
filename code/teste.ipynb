{
 "cells": [
  {
   "cell_type": "code",
   "execution_count": 1,
   "metadata": {},
   "outputs": [],
   "source": [
    "import pandas as pd\n",
    "from datetime import datetime as dt\n",
    "from pysus.online_data.SIM import download, get_municipios"
   ]
  },
  {
   "cell_type": "code",
   "execution_count": 4,
   "metadata": {},
   "outputs": [],
   "source": [
    "def extract_sim(start_year, end_year, state):\n",
    "    df = pd.concat([download(state=state, year=year) for year in range(start_year, end_year + 1)])\n",
    "\n",
    "    return df"
   ]
  },
  {
   "cell_type": "code",
   "execution_count": 6,
   "metadata": {},
   "outputs": [
    {
     "ename": "AttributeError",
     "evalue": "'int' object has no attribute 'upper'",
     "output_type": "error",
     "traceback": [
      "\u001b[0;31m---------------------------------------------------------------------------\u001b[0m",
      "\u001b[0;31mAttributeError\u001b[0m                            Traceback (most recent call last)",
      "Cell \u001b[0;32mIn[6], line 1\u001b[0m\n\u001b[0;32m----> 1\u001b[0m df \u001b[39m=\u001b[39m download(\u001b[39m2010\u001b[39;49m, \u001b[39m2020\u001b[39;49m, \u001b[39m'\u001b[39;49m\u001b[39mES\u001b[39;49m\u001b[39m'\u001b[39;49m)\n\u001b[1;32m      2\u001b[0m df_mun \u001b[39m=\u001b[39m get_municipios()\u001b[39m.\u001b[39mastype(\u001b[39mstr\u001b[39m)\u001b[39m.\u001b[39mrename({\u001b[39m'\u001b[39m\u001b[39mMUNCOD\u001b[39m\u001b[39m'\u001b[39m: \u001b[39m'\u001b[39m\u001b[39mCODMUNRES\u001b[39m\u001b[39m'\u001b[39m})\n",
      "File \u001b[0;32m~/Área de Trabalho/BI_SAUDE_MENTAL/venv/lib/python3.9/site-packages/pysus/online_data/SIM.py:27\u001b[0m, in \u001b[0;36mdownload\u001b[0;34m(state, year, cache, folder)\u001b[0m\n\u001b[1;32m     20\u001b[0m \u001b[39m\u001b[39m\u001b[39m\"\"\"\u001b[39;00m\n\u001b[1;32m     21\u001b[0m \u001b[39mDownloads data directly from Datasus ftp server\u001b[39;00m\n\u001b[1;32m     22\u001b[0m \u001b[39m:param state: two-letter state identifier: MG == Minas Gerais\u001b[39;00m\n\u001b[1;32m     23\u001b[0m \u001b[39m:param year: 4 digit integer\u001b[39;00m\n\u001b[1;32m     24\u001b[0m \u001b[39m:return: pandas dataframe\u001b[39;00m\n\u001b[1;32m     25\u001b[0m \u001b[39m\"\"\"\u001b[39;00m\n\u001b[1;32m     26\u001b[0m year2 \u001b[39m=\u001b[39m \u001b[39mstr\u001b[39m(year)[\u001b[39m-\u001b[39m\u001b[39m2\u001b[39m:]\u001b[39m.\u001b[39mzfill(\u001b[39m2\u001b[39m)\n\u001b[0;32m---> 27\u001b[0m state \u001b[39m=\u001b[39m state\u001b[39m.\u001b[39;49mupper()\n\u001b[1;32m     28\u001b[0m ftp_dir \u001b[39m=\u001b[39m \u001b[39m\"\u001b[39m\u001b[39m\"\u001b[39m\n\u001b[1;32m     29\u001b[0m fname \u001b[39m=\u001b[39m \u001b[39m\"\u001b[39m\u001b[39m\"\u001b[39m\n",
      "\u001b[0;31mAttributeError\u001b[0m: 'int' object has no attribute 'upper'"
     ]
    }
   ],
   "source": [
    "df = download(2010, 2020, 'es')\n",
    "df_mun = get_municipios().astype(str).rename({'MUNCOD': 'CODMUNRES'})"
   ]
  }
 ],
 "metadata": {
  "kernelspec": {
   "display_name": "venv",
   "language": "python",
   "name": "python3"
  },
  "language_info": {
   "codemirror_mode": {
    "name": "ipython",
    "version": 3
   },
   "file_extension": ".py",
   "mimetype": "text/x-python",
   "name": "python",
   "nbconvert_exporter": "python",
   "pygments_lexer": "ipython3",
   "version": "3.9.13"
  },
  "orig_nbformat": 4,
  "vscode": {
   "interpreter": {
    "hash": "78334183b55f4a7219eb21203db6811b22d33a5380da8255b50cc146d40e95a7"
   }
  }
 },
 "nbformat": 4,
 "nbformat_minor": 2
}
