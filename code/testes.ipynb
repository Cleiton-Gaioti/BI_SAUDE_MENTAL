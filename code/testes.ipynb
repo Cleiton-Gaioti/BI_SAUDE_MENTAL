{
 "cells": [
  {
   "cell_type": "code",
   "execution_count": 16,
   "metadata": {},
   "outputs": [],
   "source": [
    "import os\n",
    "import re"
   ]
  },
  {
   "cell_type": "code",
   "execution_count": 17,
   "metadata": {},
   "outputs": [
    {
     "ename": "FileNotFoundError",
     "evalue": "[WinError 3] O sistema não pode encontrar o caminho especificado: '../datasources/arquivos_sim/{}'",
     "output_type": "error",
     "traceback": [
      "\u001b[1;31m---------------------------------------------------------------------------\u001b[0m",
      "\u001b[1;31mFileNotFoundError\u001b[0m                         Traceback (most recent call last)",
      "Cell \u001b[1;32mIn[17], line 4\u001b[0m\n\u001b[0;32m      1\u001b[0m folder \u001b[39m=\u001b[39m \u001b[39m'\u001b[39m\u001b[39m../datasources/arquivos_sim/\u001b[39m\u001b[39m{}\u001b[39;00m\u001b[39m'\u001b[39m\n\u001b[0;32m      2\u001b[0m regex \u001b[39m=\u001b[39m re\u001b[39m.\u001b[39mcompile(\u001b[39m'\u001b[39m\u001b[39m_\u001b[39m\u001b[39m{}\u001b[39;00m\u001b[39m_\u001b[39m\u001b[39m'\u001b[39m\u001b[39m.\u001b[39mformat(\u001b[39m'\u001b[39m\u001b[39mES\u001b[39m\u001b[39m'\u001b[39m))\n\u001b[1;32m----> 4\u001b[0m paths \u001b[39m=\u001b[39m [nome \u001b[39mfor\u001b[39;00m nome \u001b[39min\u001b[39;00m os\u001b[39m.\u001b[39;49mlistdir(folder) \u001b[39mif\u001b[39;00m regex\u001b[39m.\u001b[39msearch(nome)]\n\u001b[0;32m      6\u001b[0m \u001b[39mprint\u001b[39m(paths)\n",
      "\u001b[1;31mFileNotFoundError\u001b[0m: [WinError 3] O sistema não pode encontrar o caminho especificado: '../datasources/arquivos_sim/{}'"
     ]
    }
   ],
   "source": [
    "folder = '../datasources/arquivos_sim/'\n",
    "regex = re.compile('_{}_'.format('ES'))\n",
    "\n",
    "paths = [nome for nome in os.listdir(folder) if regex.search(nome)]\n",
    "\n",
    "print(paths)"
   ]
  }
 ],
 "metadata": {
  "kernelspec": {
   "display_name": "venv",
   "language": "python",
   "name": "python3"
  },
  "language_info": {
   "codemirror_mode": {
    "name": "ipython",
    "version": 3
   },
   "file_extension": ".py",
   "mimetype": "text/x-python",
   "name": "python",
   "nbconvert_exporter": "python",
   "pygments_lexer": "ipython3",
   "version": "3.11.1"
  },
  "orig_nbformat": 4,
  "vscode": {
   "interpreter": {
    "hash": "2277b8dc2c5e829a86973da2683002c5a8395c5f55d82ba52bcf26d0293e1c7c"
   }
  }
 },
 "nbformat": 4,
 "nbformat_minor": 2
}
